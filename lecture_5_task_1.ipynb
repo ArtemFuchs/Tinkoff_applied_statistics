{
 "cells": [
  {
   "cell_type": "code",
   "execution_count": 1,
   "metadata": {},
   "outputs": [
    {
     "name": "stdout",
     "output_type": "stream",
     "text": [
      "Populating the interactive namespace from numpy and matplotlib\n"
     ]
    }
   ],
   "source": [
    "import numpy as np\n",
    "import pandas as pd\n",
    "import scipy\n",
    "\n",
    "from statsmodels.stats.weightstats import _zconfint_generic, _tconfint_generic\n",
    "from statsmodels.stats.proportion import proportion_confint\n",
    "\n",
    "%pylab inline"
   ]
  },
  {
   "cell_type": "markdown",
   "metadata": {},
   "source": [
    "Загружаем данные"
   ]
  },
  {
   "cell_type": "code",
   "execution_count": 2,
   "metadata": {},
   "outputs": [
    {
     "data": {
      "text/plain": [
       "(10000, 7)"
      ]
     },
     "execution_count": 2,
     "metadata": {},
     "output_type": "execute_result"
    }
   ],
   "source": [
    "df = pd.read_csv('data.csv', sep=',')\n",
    "df.shape"
   ]
  },
  {
   "cell_type": "markdown",
   "metadata": {},
   "source": [
    "Посмотрим основные характеристики данных, есть два пропущенных значения в запрашиваемой сумме"
   ]
  },
  {
   "cell_type": "code",
   "execution_count": 33,
   "metadata": {},
   "outputs": [
    {
     "data": {
      "text/html": [
       "<div>\n",
       "<style scoped>\n",
       "    .dataframe tbody tr th:only-of-type {\n",
       "        vertical-align: middle;\n",
       "    }\n",
       "\n",
       "    .dataframe tbody tr th {\n",
       "        vertical-align: top;\n",
       "    }\n",
       "\n",
       "    .dataframe thead th {\n",
       "        text-align: right;\n",
       "    }\n",
       "</style>\n",
       "<table border=\"1\" class=\"dataframe\">\n",
       "  <thead>\n",
       "    <tr style=\"text-align: right;\">\n",
       "      <th></th>\n",
       "      <th>id</th>\n",
       "      <th>required_amt</th>\n",
       "      <th>installment_flg</th>\n",
       "      <th>monthly_income_amt</th>\n",
       "      <th>age</th>\n",
       "      <th>has_high_education_flg</th>\n",
       "      <th>approved_flg</th>\n",
       "    </tr>\n",
       "  </thead>\n",
       "  <tbody>\n",
       "    <tr>\n",
       "      <th>count</th>\n",
       "      <td>10000.00000</td>\n",
       "      <td>9998.000000</td>\n",
       "      <td>10000.000000</td>\n",
       "      <td>1.000000e+04</td>\n",
       "      <td>10000.000000</td>\n",
       "      <td>10000.000000</td>\n",
       "      <td>10000.000000</td>\n",
       "    </tr>\n",
       "    <tr>\n",
       "      <th>mean</th>\n",
       "      <td>5000.50000</td>\n",
       "      <td>37806.147129</td>\n",
       "      <td>0.626000</td>\n",
       "      <td>4.654274e+04</td>\n",
       "      <td>32.532200</td>\n",
       "      <td>0.352100</td>\n",
       "      <td>0.261100</td>\n",
       "    </tr>\n",
       "    <tr>\n",
       "      <th>std</th>\n",
       "      <td>2886.89568</td>\n",
       "      <td>29479.567128</td>\n",
       "      <td>0.483888</td>\n",
       "      <td>3.622018e+04</td>\n",
       "      <td>11.355345</td>\n",
       "      <td>0.477649</td>\n",
       "      <td>0.439256</td>\n",
       "    </tr>\n",
       "    <tr>\n",
       "      <th>min</th>\n",
       "      <td>1.00000</td>\n",
       "      <td>2180.000000</td>\n",
       "      <td>0.000000</td>\n",
       "      <td>2.200000e+01</td>\n",
       "      <td>18.000000</td>\n",
       "      <td>0.000000</td>\n",
       "      <td>0.000000</td>\n",
       "    </tr>\n",
       "    <tr>\n",
       "      <th>25%</th>\n",
       "      <td>2500.75000</td>\n",
       "      <td>16990.000000</td>\n",
       "      <td>0.000000</td>\n",
       "      <td>2.800000e+04</td>\n",
       "      <td>24.000000</td>\n",
       "      <td>0.000000</td>\n",
       "      <td>0.000000</td>\n",
       "    </tr>\n",
       "    <tr>\n",
       "      <th>50%</th>\n",
       "      <td>5000.50000</td>\n",
       "      <td>27734.500000</td>\n",
       "      <td>1.000000</td>\n",
       "      <td>4.000000e+04</td>\n",
       "      <td>30.000000</td>\n",
       "      <td>0.000000</td>\n",
       "      <td>0.000000</td>\n",
       "    </tr>\n",
       "    <tr>\n",
       "      <th>75%</th>\n",
       "      <td>7500.25000</td>\n",
       "      <td>52534.750000</td>\n",
       "      <td>1.000000</td>\n",
       "      <td>5.500000e+04</td>\n",
       "      <td>38.000000</td>\n",
       "      <td>1.000000</td>\n",
       "      <td>1.000000</td>\n",
       "    </tr>\n",
       "    <tr>\n",
       "      <th>max</th>\n",
       "      <td>10000.00000</td>\n",
       "      <td>279788.000000</td>\n",
       "      <td>1.000000</td>\n",
       "      <td>1.500000e+06</td>\n",
       "      <td>74.000000</td>\n",
       "      <td>1.000000</td>\n",
       "      <td>1.000000</td>\n",
       "    </tr>\n",
       "  </tbody>\n",
       "</table>\n",
       "</div>"
      ],
      "text/plain": [
       "                id   required_amt  installment_flg  monthly_income_amt  \\\n",
       "count  10000.00000    9998.000000     10000.000000        1.000000e+04   \n",
       "mean    5000.50000   37806.147129         0.626000        4.654274e+04   \n",
       "std     2886.89568   29479.567128         0.483888        3.622018e+04   \n",
       "min        1.00000    2180.000000         0.000000        2.200000e+01   \n",
       "25%     2500.75000   16990.000000         0.000000        2.800000e+04   \n",
       "50%     5000.50000   27734.500000         1.000000        4.000000e+04   \n",
       "75%     7500.25000   52534.750000         1.000000        5.500000e+04   \n",
       "max    10000.00000  279788.000000         1.000000        1.500000e+06   \n",
       "\n",
       "                age  has_high_education_flg  approved_flg  \n",
       "count  10000.000000            10000.000000  10000.000000  \n",
       "mean      32.532200                0.352100      0.261100  \n",
       "std       11.355345                0.477649      0.439256  \n",
       "min       18.000000                0.000000      0.000000  \n",
       "25%       24.000000                0.000000      0.000000  \n",
       "50%       30.000000                0.000000      0.000000  \n",
       "75%       38.000000                1.000000      1.000000  \n",
       "max       74.000000                1.000000      1.000000  "
      ]
     },
     "execution_count": 33,
     "metadata": {},
     "output_type": "execute_result"
    }
   ],
   "source": [
    "df.describe()"
   ]
  },
  {
   "cell_type": "code",
   "execution_count": 34,
   "metadata": {},
   "outputs": [
    {
     "data": {
      "text/html": [
       "<div>\n",
       "<style scoped>\n",
       "    .dataframe tbody tr th:only-of-type {\n",
       "        vertical-align: middle;\n",
       "    }\n",
       "\n",
       "    .dataframe tbody tr th {\n",
       "        vertical-align: top;\n",
       "    }\n",
       "\n",
       "    .dataframe thead th {\n",
       "        text-align: right;\n",
       "    }\n",
       "</style>\n",
       "<table border=\"1\" class=\"dataframe\">\n",
       "  <thead>\n",
       "    <tr style=\"text-align: right;\">\n",
       "      <th></th>\n",
       "      <th>id</th>\n",
       "      <th>required_amt</th>\n",
       "      <th>installment_flg</th>\n",
       "      <th>monthly_income_amt</th>\n",
       "      <th>age</th>\n",
       "      <th>has_high_education_flg</th>\n",
       "      <th>approved_flg</th>\n",
       "    </tr>\n",
       "  </thead>\n",
       "  <tbody>\n",
       "    <tr>\n",
       "      <th>5531</th>\n",
       "      <td>5532</td>\n",
       "      <td>NaN</td>\n",
       "      <td>0</td>\n",
       "      <td>35000</td>\n",
       "      <td>35</td>\n",
       "      <td>1</td>\n",
       "      <td>1</td>\n",
       "    </tr>\n",
       "    <tr>\n",
       "      <th>6053</th>\n",
       "      <td>6054</td>\n",
       "      <td>NaN</td>\n",
       "      <td>0</td>\n",
       "      <td>25000</td>\n",
       "      <td>65</td>\n",
       "      <td>0</td>\n",
       "      <td>1</td>\n",
       "    </tr>\n",
       "  </tbody>\n",
       "</table>\n",
       "</div>"
      ],
      "text/plain": [
       "        id  required_amt  installment_flg  monthly_income_amt  age  \\\n",
       "5531  5532           NaN                0               35000   35   \n",
       "6053  6054           NaN                0               25000   65   \n",
       "\n",
       "      has_high_education_flg  approved_flg  \n",
       "5531                       1             1  \n",
       "6053                       0             1  "
      ]
     },
     "execution_count": 34,
     "metadata": {},
     "output_type": "execute_result"
    }
   ],
   "source": [
    "df[df['required_amt'].isnull()]"
   ]
  },
  {
   "cell_type": "markdown",
   "metadata": {},
   "source": [
    "# Задание 1"
   ]
  },
  {
   "cell_type": "markdown",
   "metadata": {},
   "source": [
    "Выделим отдельно данные о запрошенной сумме и ежемесячном доходе и построим их распределения"
   ]
  },
  {
   "cell_type": "code",
   "execution_count": 4,
   "metadata": {},
   "outputs": [],
   "source": [
    "df_part = df[['required_amt', 'monthly_income_amt']]"
   ]
  },
  {
   "cell_type": "code",
   "execution_count": 28,
   "metadata": {},
   "outputs": [
    {
     "data": {
      "image/png": "[encoded data removed]",
      "text/plain": [
       "<Figure size 864x360 with 2 Axes>"
      ]
     },
     "metadata": {
      "needs_background": "light"
     },
     "output_type": "display_data"
    }
   ],
   "source": [
    "pylab.figure(figsize(12, 5))\n",
    "pylab.subplot(1,2,1)\n",
    "pylab.hist(df_part['required_amt'],\n",
    "           bins = 25,\n",
    "           color = 'b',\n",
    "           alpha = 0.9,\n",
    "           label = 'Запрошенная сумма')\n",
    "pylab.legend()\n",
    "\n",
    "pylab.subplot(1,2,2)\n",
    "pylab.hist(df_part['monthly_income_amt'],\n",
    "           bins = 25,\n",
    "           color = 'g',\n",
    "           alpha = 0.9,\n",
    "           label = 'Доход клиента')\n",
    "pylab.legend()\n",
    "\n",
    "pylab.show()"
   ]
  },
  {
   "cell_type": "markdown",
   "metadata": {},
   "source": [
    "Поскольку исходные данные, как мы предполагаем, распределены логнормально, то их логарифм распределен нормально, возьмем\n",
    "логарифм"
   ]
  },
  {
   "cell_type": "code",
   "execution_count": 6,
   "metadata": {},
   "outputs": [],
   "source": [
    "df_part_ln = df_part.apply(np.log)"
   ]
  },
  {
   "cell_type": "markdown",
   "metadata": {},
   "source": [
    "И визуализируем"
   ]
  },
  {
   "cell_type": "code",
   "execution_count": 29,
   "metadata": {},
   "outputs": [
    {
     "data": {
      "image/png": "[encoded data removed]",
      "text/plain": [
       "<Figure size 864x360 with 2 Axes>"
      ]
     },
     "metadata": {
      "needs_background": "light"
     },
     "output_type": "display_data"
    }
   ],
   "source": [
    "pylab.figure(figsize(12, 5))\n",
    "pylab.subplot(1,2,1)\n",
    "pylab.hist(df_part_ln['required_amt'],\n",
    "           bins = 25,\n",
    "           color = 'b',\n",
    "           alpha = 0.9,\n",
    "           label = 'Запрошенная сумма')\n",
    "pylab.legend()\n",
    "\n",
    "pylab.subplot(1,2,2)\n",
    "pylab.hist(df_part_ln['monthly_income_amt'],\n",
    "           bins = 25,\n",
    "           color = 'g',\n",
    "           alpha = 0.9,\n",
    "           label = 'Доход клиента')\n",
    "pylab.legend()\n",
    "\n",
    "pylab.show()"
   ]
  },
  {
   "cell_type": "code",
   "execution_count": 31,
   "metadata": {},
   "outputs": [
    {
     "data": {
      "text/html": [
       "<div>\n",
       "<style scoped>\n",
       "    .dataframe tbody tr th:only-of-type {\n",
       "        vertical-align: middle;\n",
       "    }\n",
       "\n",
       "    .dataframe tbody tr th {\n",
       "        vertical-align: top;\n",
       "    }\n",
       "\n",
       "    .dataframe thead th {\n",
       "        text-align: right;\n",
       "    }\n",
       "</style>\n",
       "<table border=\"1\" class=\"dataframe\">\n",
       "  <thead>\n",
       "    <tr style=\"text-align: right;\">\n",
       "      <th></th>\n",
       "      <th>required_amt</th>\n",
       "      <th>monthly_income_amt</th>\n",
       "    </tr>\n",
       "  </thead>\n",
       "  <tbody>\n",
       "    <tr>\n",
       "      <th>count</th>\n",
       "      <td>9998.000000</td>\n",
       "      <td>10000.000000</td>\n",
       "    </tr>\n",
       "    <tr>\n",
       "      <th>mean</th>\n",
       "      <td>10.270152</td>\n",
       "      <td>10.583687</td>\n",
       "    </tr>\n",
       "    <tr>\n",
       "      <th>std</th>\n",
       "      <td>0.746767</td>\n",
       "      <td>0.566499</td>\n",
       "    </tr>\n",
       "    <tr>\n",
       "      <th>min</th>\n",
       "      <td>7.687080</td>\n",
       "      <td>3.091042</td>\n",
       "    </tr>\n",
       "    <tr>\n",
       "      <th>25%</th>\n",
       "      <td>9.740380</td>\n",
       "      <td>10.239960</td>\n",
       "    </tr>\n",
       "    <tr>\n",
       "      <th>50%</th>\n",
       "      <td>10.230432</td>\n",
       "      <td>10.596635</td>\n",
       "    </tr>\n",
       "    <tr>\n",
       "      <th>75%</th>\n",
       "      <td>10.869230</td>\n",
       "      <td>10.915088</td>\n",
       "    </tr>\n",
       "    <tr>\n",
       "      <th>max</th>\n",
       "      <td>12.541787</td>\n",
       "      <td>14.220976</td>\n",
       "    </tr>\n",
       "  </tbody>\n",
       "</table>\n",
       "</div>"
      ],
      "text/plain": [
       "       required_amt  monthly_income_amt\n",
       "count   9998.000000        10000.000000\n",
       "mean      10.270152           10.583687\n",
       "std        0.746767            0.566499\n",
       "min        7.687080            3.091042\n",
       "25%        9.740380           10.239960\n",
       "50%       10.230432           10.596635\n",
       "75%       10.869230           10.915088\n",
       "max       12.541787           14.220976"
      ]
     },
     "execution_count": 31,
     "metadata": {},
     "output_type": "execute_result"
    }
   ],
   "source": [
    "df_part_ln.describe()"
   ]
  },
  {
   "cell_type": "code",
   "execution_count": 32,
   "metadata": {},
   "outputs": [
    {
     "data": {
      "text/html": [
       "<div>\n",
       "<style scoped>\n",
       "    .dataframe tbody tr th:only-of-type {\n",
       "        vertical-align: middle;\n",
       "    }\n",
       "\n",
       "    .dataframe tbody tr th {\n",
       "        vertical-align: top;\n",
       "    }\n",
       "\n",
       "    .dataframe thead th {\n",
       "        text-align: right;\n",
       "    }\n",
       "</style>\n",
       "<table border=\"1\" class=\"dataframe\">\n",
       "  <thead>\n",
       "    <tr style=\"text-align: right;\">\n",
       "      <th></th>\n",
       "      <th>required_amt</th>\n",
       "      <th>monthly_income_amt</th>\n",
       "    </tr>\n",
       "  </thead>\n",
       "  <tbody>\n",
       "    <tr>\n",
       "      <th>count</th>\n",
       "      <td>9998.000000</td>\n",
       "      <td>1.000000e+04</td>\n",
       "    </tr>\n",
       "    <tr>\n",
       "      <th>mean</th>\n",
       "      <td>37806.147129</td>\n",
       "      <td>4.654274e+04</td>\n",
       "    </tr>\n",
       "    <tr>\n",
       "      <th>std</th>\n",
       "      <td>29479.567128</td>\n",
       "      <td>3.622018e+04</td>\n",
       "    </tr>\n",
       "    <tr>\n",
       "      <th>min</th>\n",
       "      <td>2180.000000</td>\n",
       "      <td>2.200000e+01</td>\n",
       "    </tr>\n",
       "    <tr>\n",
       "      <th>25%</th>\n",
       "      <td>16990.000000</td>\n",
       "      <td>2.800000e+04</td>\n",
       "    </tr>\n",
       "    <tr>\n",
       "      <th>50%</th>\n",
       "      <td>27734.500000</td>\n",
       "      <td>4.000000e+04</td>\n",
       "    </tr>\n",
       "    <tr>\n",
       "      <th>75%</th>\n",
       "      <td>52534.750000</td>\n",
       "      <td>5.500000e+04</td>\n",
       "    </tr>\n",
       "    <tr>\n",
       "      <th>max</th>\n",
       "      <td>279788.000000</td>\n",
       "      <td>1.500000e+06</td>\n",
       "    </tr>\n",
       "  </tbody>\n",
       "</table>\n",
       "</div>"
      ],
      "text/plain": [
       "        required_amt  monthly_income_amt\n",
       "count    9998.000000        1.000000e+04\n",
       "mean    37806.147129        4.654274e+04\n",
       "std     29479.567128        3.622018e+04\n",
       "min      2180.000000        2.200000e+01\n",
       "25%     16990.000000        2.800000e+04\n",
       "50%     27734.500000        4.000000e+04\n",
       "75%     52534.750000        5.500000e+04\n",
       "max    279788.000000        1.500000e+06"
      ]
     },
     "execution_count": 32,
     "metadata": {},
     "output_type": "execute_result"
    }
   ],
   "source": [
    "df_part.describe()"
   ]
  },
  {
   "cell_type": "markdown",
   "metadata": {},
   "source": [
    "Построим предсказательные интервалы для логарифма запрошенной суммы и логарифма дохода, после чего края интервалов потенцируем, тогда получим предсказательные интервалы для самой суммы и дохода"
   ]
  },
  {
   "cell_type": "code",
   "execution_count": 50,
   "metadata": {},
   "outputs": [
    {
     "name": "stdout",
     "output_type": "stream",
     "text": [
      "95% предсказательный интервал запрошенной суммы:[6,677.61 - 124,715.15]\n"
     ]
    }
   ],
   "source": [
    "diff_pred_int = _zconfint_generic(df_part_ln['required_amt'].mean(),\\\n",
    "                                  df_part_ln['required_amt'].std(ddof=1), 0.05, 'two-sided')\n",
    "\n",
    "print(f'95% предсказательный интервал запрошенной суммы:[{np.exp(diff_pred_int[0]):,.2f} - {np.exp(diff_pred_int[1]):,.2f}]')"
   ]
  },
  {
   "cell_type": "code",
   "execution_count": 51,
   "metadata": {},
   "outputs": [
    {
     "name": "stdout",
     "output_type": "stream",
     "text": [
      "95% предсказательный интервал ежемесячного дохода:[13,008.65 - 119,851.03]\n"
     ]
    }
   ],
   "source": [
    "diff_pred_int = _zconfint_generic(df_part_ln['monthly_income_amt'].mean(),\\\n",
    "                                  df_part_ln['monthly_income_amt'].std(ddof=1), 0.05, 'two-sided')\n",
    "\n",
    "print(f'95% предсказательный интервал ежемесячного дохода:[{np.exp(diff_pred_int[0]):,.2f} - {np.exp(diff_pred_int[1]):,.2f}]')"
   ]
  },
  {
   "cell_type": "markdown",
   "metadata": {},
   "source": [
    "# Задание 2"
   ]
  },
  {
   "cell_type": "markdown",
   "metadata": {},
   "source": [
    "Сначала сравним доли клиентов с высшим образованием среди одобренных/неодобренных"
   ]
  },
  {
   "cell_type": "code",
   "execution_count": 100,
   "metadata": {},
   "outputs": [
    {
     "name": "stdout",
     "output_type": "stream",
     "text": [
      "99% доверительный интервал доли с высшим образованием: [0.3074 - 0.3481]\n"
     ]
    }
   ],
   "source": [
    "approved_client_education_conf_int = proportion_confint(df[df.has_high_education_flg == 1].approved_flg.sum(),\n",
    "                                                    len(df[df.has_high_education_flg == 1].approved_flg),\n",
    "                                                    alpha = 0.01,\n",
    "                                                    method = 'wilson')\n",
    "\n",
    "print(f'99% доверительный интервал доли с высшим образованием: [{approved_client_education_conf_int[0]:.4f} - {approved_client_education_conf_int[1]:.4f}]')"
   ]
  },
  {
   "cell_type": "code",
   "execution_count": 171,
   "metadata": {},
   "outputs": [
    {
     "name": "stdout",
     "output_type": "stream",
     "text": [
      "99% доверительный интервал доли клиентов без высшего образования: [0.2120 - 0.2387]\n"
     ]
    }
   ],
   "source": [
    "disapproved_client_education_conf_int = proportion_confint(df[df.has_high_education_flg == 0].approved_flg.sum(),\n",
    "                                                    len(df[df.has_high_education_flg == 0].approved_flg),\n",
    "                                                    alpha = 0.01,\n",
    "                                                    method = 'wilson')\n",
    "\n",
    "print(f'99% доверительный интервал доли клиентов без высшего образования: [{disapproved_client_education_conf_int[0]:.4f} - {disapproved_client_education_conf_int[1]:.4f}]')"
   ]
  },
  {
   "cell_type": "code",
   "execution_count": 65,
   "metadata": {},
   "outputs": [],
   "source": [
    "def proportions_confint_diff_ind(sample1, sample2, alpha = 0.01):\n",
    "    '''Считает доверительный интервал для разности долей в независимых выборках'''\n",
    "    z = scipy.stats.norm.ppf(1 - alpha / 2.)\n",
    "    p1 = float(sum(sample1)) / len(sample1)\n",
    "    p2 = float(sum(sample2)) / len(sample2)\n",
    "    sigma = np.sqrt(p1 * (1 - p1)/ len(sample1) + p2 * (1 - p2)/ len(sample2))\n",
    "    left_boundary = (p1 - p2) - z * sigma\n",
    "    right_boundary = (p1 - p2) + z * sigma\n",
    "    return (left_boundary, right_boundary)"
   ]
  },
  {
   "cell_type": "code",
   "execution_count": 102,
   "metadata": {},
   "outputs": [
    {
     "data": {
      "text/plain": [
       "(0.07806537137828923, 0.1267927508516632)"
      ]
     },
     "execution_count": 102,
     "metadata": {},
     "output_type": "execute_result"
    }
   ],
   "source": [
    "proportions_confint_diff_ind(df[df.has_high_education_flg == 1].approved_flg,\n",
    "                             df[df.has_high_education_flg == 0].approved_flg)"
   ]
  },
  {
   "cell_type": "markdown",
   "metadata": {},
   "source": [
    "Ноль не в доверительном интервале, значит между долями людей с высшим образованием среди одобренных банком есть статистически значимое отличие"
   ]
  },
  {
   "cell_type": "markdown",
   "metadata": {},
   "source": [
    "Теперь сравним доли клиентов с рассрочкой и кредитом также среди одобренных/неодобренных"
   ]
  },
  {
   "cell_type": "code",
   "execution_count": 103,
   "metadata": {},
   "outputs": [
    {
     "name": "stdout",
     "output_type": "stream",
     "text": [
      "99% доверительный интервал доли одобренных клиентов с рассрочкой: [0.2465 - 0.2751]\n"
     ]
    }
   ],
   "source": [
    "approved_client_education_conf_int = proportion_confint(df[df.installment_flg == 1].approved_flg.sum(),\n",
    "                                                    len(df[df.installment_flg == 1].approved_flg),\n",
    "                                                    alpha = 0.01,\n",
    "                                                    method = 'wilson')\n",
    "\n",
    "print(f'99% доверительный интервал доли одобренных клиентов с рассрочкой: [{approved_client_education_conf_int[0]:.4f} - {approved_client_education_conf_int[1]:.4f}]')"
   ]
  },
  {
   "cell_type": "code",
   "execution_count": 104,
   "metadata": {},
   "outputs": [
    {
     "name": "stdout",
     "output_type": "stream",
     "text": [
      "99% доверительный интервал доли неодобренных клиентов с кредитом: [0.2439 - 0.2810]\n"
     ]
    }
   ],
   "source": [
    "disapproved_client_education_conf_int = proportion_confint(df[df.installment_flg == 0].approved_flg.sum(),\n",
    "                                                    len(df[df.installment_flg == 0].approved_flg),\n",
    "                                                    alpha = 0.01,\n",
    "                                                    method = 'wilson')\n",
    "\n",
    "print(f'99% доверительный интервал доли неодобренных клиентов с кредитом: [{disapproved_client_education_conf_int[0]:.4f} - {disapproved_client_education_conf_int[1]:.4f}]')"
   ]
  },
  {
   "cell_type": "code",
   "execution_count": 105,
   "metadata": {},
   "outputs": [
    {
     "data": {
      "text/plain": [
       "(-0.02488224598127247, 0.021904336839108467)"
      ]
     },
     "execution_count": 105,
     "metadata": {},
     "output_type": "execute_result"
    }
   ],
   "source": [
    "proportions_confint_diff_ind(df[df.installment_flg == 1].approved_flg,\n",
    "                             df[df.installment_flg == 0].approved_flg)"
   ]
  },
  {
   "cell_type": "markdown",
   "metadata": {},
   "source": [
    "Как видно, ноль находится в доверительном интервале, нельзя сказать, есть ли различие между запрашиваемым продуктом и его одобрением банком"
   ]
  },
  {
   "cell_type": "markdown",
   "metadata": {},
   "source": [
    "Из вещественных признаков сперва рассмотрим возраст и разделим всех людей на 4 группы: 25% квантиль, от 25% квантиля до медианы, от медианы до 75% квантиля, а также те, кто старше 75% квантиля"
   ]
  },
  {
   "cell_type": "code",
   "execution_count": 98,
   "metadata": {},
   "outputs": [],
   "source": [
    "first_group = df[df['age'] < df['age'].quantile(0.25)]\n",
    "second_group = df[(df['age'] < df['age'].quantile(0.5)) & (df['age'] >= df['age'].quantile(0.25))]\n",
    "third_group = df[(df['age'] < df['age'].quantile(0.75)) & (df['age'] >= df['age'].quantile(0.5))]\n",
    "fourth_group = df[df['age'] >= df['age'].quantile(0.75)]"
   ]
  },
  {
   "cell_type": "markdown",
   "metadata": {},
   "source": [
    "Размеры групп примерно одинаковые"
   ]
  },
  {
   "cell_type": "code",
   "execution_count": 99,
   "metadata": {},
   "outputs": [
    {
     "name": "stdout",
     "output_type": "stream",
     "text": [
      "(2435, 7) (2415, 7) (2518, 7) (2632, 7)\n"
     ]
    }
   ],
   "source": [
    "print(first_group.shape, second_group.shape, third_group.shape, fourth_group.shape)"
   ]
  },
  {
   "cell_type": "markdown",
   "metadata": {},
   "source": [
    "Определим доверительные интервалы для каждой возрастной группы"
   ]
  },
  {
   "cell_type": "code",
   "execution_count": 137,
   "metadata": {},
   "outputs": [
    {
     "name": "stdout",
     "output_type": "stream",
     "text": [
      "99% доверительный интервал в первой возрастной группе: [0.091 - 0.123]\n",
      "99% доверительный интервал во второй возрастной группе: [0.200 - 0.243]\n",
      "99% доверительный интервал в третьей возрастной группе: [0.289 - 0.336]\n",
      "99% доверительный интервал в четвёртой возрастной группе: [0.369 - 0.418]\n"
     ]
    }
   ],
   "source": [
    "first_group_conf_int = proportion_confint(first_group.approved_flg.sum(),\n",
    "                                                    len(first_group.approved_flg),\n",
    "                                                    alpha = 0.01,\n",
    "                                                    method = 'wilson')\n",
    "second_group_conf_int = proportion_confint(second_group.approved_flg.sum(),\n",
    "                                                    len(second_group.approved_flg),\n",
    "                                                    alpha = 0.01,\n",
    "                                                    method = 'wilson')\n",
    "third_group_conf_int = proportion_confint(third_group.approved_flg.sum(),\n",
    "                                                    len(third_group.approved_flg),\n",
    "                                                    alpha = 0.01,\n",
    "                                                    method = 'wilson')\n",
    "fourth_group_conf_int = proportion_confint(fourth_group.approved_flg.sum(),\n",
    "                                                    len(fourth_group.approved_flg),\n",
    "                                                    alpha = 0.01,\n",
    "                                                    method = 'wilson')\n",
    "\n",
    "print(f'99% доверительный интервал в первой возрастной группе: [{first_group_conf_int[0]:.3f} - {first_group_conf_int[1]:.3f}]')\n",
    "print(f'99% доверительный интервал во второй возрастной группе: [{second_group_conf_int[0]:.3f} - {second_group_conf_int[1]:.3f}]')\n",
    "print(f'99% доверительный интервал в третьей возрастной группе: [{third_group_conf_int[0]:.3f} - {third_group_conf_int[1]:.3f}]')\n",
    "print(f'99% доверительный интервал в четвёртой возрастной группе: [{fourth_group_conf_int[0]:.3f} - {fourth_group_conf_int[1]:.3f}]')"
   ]
  },
  {
   "cell_type": "markdown",
   "metadata": {},
   "source": [
    "Доверительные интервалы всех групп не пересекаются, значит статистически значимым является факт того, что доля одобрений от банка растёт от младшей возрастной группы к старшей"
   ]
  },
  {
   "cell_type": "markdown",
   "metadata": {},
   "source": [
    "Кстати, стоит уточнить возраст групп:\n",
    "- меньше 24 лет\n",
    "- от 24 до 30 лет\n",
    "- от 30 до 38 лет\n",
    "- 38 и старше"
   ]
  },
  {
   "cell_type": "markdown",
   "metadata": {},
   "source": [
    "По такому же принципу разделим данные о доходах и запрашиваемых суммах"
   ]
  },
  {
   "cell_type": "code",
   "execution_count": 120,
   "metadata": {},
   "outputs": [],
   "source": [
    "first_group_income = df[df['monthly_income_amt'] < df['monthly_income_amt'].quantile(0.25)]\n",
    "second_group_income = df[(df['monthly_income_amt'] < df['monthly_income_amt'].quantile(0.5)) & (df['monthly_income_amt'] >= df['monthly_income_amt'].quantile(0.25))]\n",
    "third_group_income = df[(df['monthly_income_amt'] < df['monthly_income_amt'].quantile(0.75)) & (df['monthly_income_amt'] >= df['monthly_income_amt'].quantile(0.5))]\n",
    "fourth_group_income = df[df['monthly_income_amt'] >= df['monthly_income_amt'].quantile(0.75)]"
   ]
  },
  {
   "cell_type": "code",
   "execution_count": 138,
   "metadata": {},
   "outputs": [
    {
     "name": "stdout",
     "output_type": "stream",
     "text": [
      "(2388, 7) (2538, 7) (2535, 7) (2539, 7)\n"
     ]
    }
   ],
   "source": [
    "print(first_group_income.shape, second_group_income.shape, third_group_income.shape, fourth_group_income.shape)"
   ]
  },
  {
   "cell_type": "code",
   "execution_count": 128,
   "metadata": {},
   "outputs": [],
   "source": [
    "first_group_required = df[df['required_amt'] < df['required_amt'].quantile(0.25)]\n",
    "second_group_required = df[(df['required_amt'] < df['required_amt'].quantile(0.5)) & (df['required_amt'] >= df['required_amt'].quantile(0.25))]\n",
    "third_group_required = df[(df['required_amt'] < df['required_amt'].quantile(0.75)) & (df['required_amt'] >= df['required_amt'].quantile(0.5))]\n",
    "fourth_group_required = df[df['required_amt'] >= df['required_amt'].quantile(0.75)]"
   ]
  },
  {
   "cell_type": "code",
   "execution_count": 140,
   "metadata": {},
   "outputs": [
    {
     "name": "stdout",
     "output_type": "stream",
     "text": [
      "(2485, 7) (2514, 7) (2499, 7) (2500, 7)\n"
     ]
    }
   ],
   "source": [
    "print(first_group_required.shape, second_group_required.shape, third_group_required.shape, fourth_group_required.shape)"
   ]
  },
  {
   "cell_type": "markdown",
   "metadata": {},
   "source": [
    "Группы также примерно равного размера"
   ]
  },
  {
   "cell_type": "code",
   "execution_count": 139,
   "metadata": {},
   "outputs": [
    {
     "name": "stdout",
     "output_type": "stream",
     "text": [
      "99% доверительный интервал в первой группе по доходам: [0.251 - 0.298]\n",
      "99% доверительный интервал во второй группе по доходам: [0.231 - 0.275]\n",
      "99% доверительный интервал в третьей группе по доходам: [0.238 - 0.283]\n",
      "99% доверительный интервал в четвёртой группе по доходам: [0.237 - 0.282]\n"
     ]
    }
   ],
   "source": [
    "first_group_conf_int = proportion_confint(first_group_income.approved_flg.sum(),\n",
    "                                                    len(first_group_income.approved_flg),\n",
    "                                                    alpha = 0.01,\n",
    "                                                    method = 'wilson')\n",
    "second_group_conf_int = proportion_confint(second_group_income.approved_flg.sum(),\n",
    "                                                    len(second_group_income.approved_flg),\n",
    "                                                    alpha = 0.01,\n",
    "                                                    method = 'wilson')\n",
    "third_group_conf_int = proportion_confint(third_group_income.approved_flg.sum(),\n",
    "                                                    len(third_group_income.approved_flg),\n",
    "                                                    alpha = 0.01,\n",
    "                                                    method = 'wilson')\n",
    "fourth_group_conf_int = proportion_confint(fourth_group_income.approved_flg.sum(),\n",
    "                                                    len(fourth_group_income.approved_flg),\n",
    "                                                    alpha = 0.01,\n",
    "                                                    method = 'wilson')\n",
    "\n",
    "print(f'99% доверительный интервал в первой группе по доходам: [{first_group_conf_int[0]:.3f} - {first_group_conf_int[1]:.3f}]')\n",
    "print(f'99% доверительный интервал во второй группе по доходам: [{second_group_conf_int[0]:.3f} - {second_group_conf_int[1]:.3f}]')\n",
    "print(f'99% доверительный интервал в третьей группе по доходам: [{third_group_conf_int[0]:.3f} - {third_group_conf_int[1]:.3f}]')\n",
    "print(f'99% доверительный интервал в четвёртой группе по доходам: [{fourth_group_conf_int[0]:.3f} - {fourth_group_conf_int[1]:.3f}]')"
   ]
  },
  {
   "cell_type": "markdown",
   "metadata": {},
   "source": [
    "В группах по доходам доля одобрений не имеет статистически значимых отличий"
   ]
  },
  {
   "cell_type": "code",
   "execution_count": 144,
   "metadata": {},
   "outputs": [
    {
     "name": "stdout",
     "output_type": "stream",
     "text": [
      "99% доверительный интервал в первой группе по необходимой сумме: [0.322 - 0.371]\n",
      "99% доверительный интервал во второй группе по необходимой сумме: [0.265 - 0.311]\n",
      "99% доверительный интервал в третьей группе по необходимой сумме: [0.233 - 0.278]\n",
      "99% доверительный интервал в четвёртой группе по необходимой сумме: [0.139 - 0.176]\n"
     ]
    }
   ],
   "source": [
    "first_group_conf_int = proportion_confint(first_group_required.approved_flg.sum(),\n",
    "                                                    len(first_group_required.approved_flg),\n",
    "                                                    alpha = 0.01,\n",
    "                                                    method = 'wilson')\n",
    "second_group_conf_int = proportion_confint(second_group_required.approved_flg.sum(),\n",
    "                                                    len(second_group_required.approved_flg),\n",
    "                                                    alpha = 0.01,\n",
    "                                                    method = 'wilson')\n",
    "third_group_conf_int = proportion_confint(third_group_required.approved_flg.sum(),\n",
    "                                                    len(third_group_required.approved_flg),\n",
    "                                                    alpha = 0.01,\n",
    "                                                    method = 'wilson')\n",
    "fourth_group_conf_int = proportion_confint(fourth_group_required.approved_flg.sum(),\n",
    "                                                    len(fourth_group_required.approved_flg),\n",
    "                                                    alpha = 0.01,\n",
    "                                                    method = 'wilson')\n",
    "\n",
    "print(f'99% доверительный интервал в первой группе по необходимой сумме: [{first_group_conf_int[0]:.3f} - {first_group_conf_int[1]:.3f}]')\n",
    "print(f'99% доверительный интервал во второй группе по необходимой сумме: [{second_group_conf_int[0]:.3f} - {second_group_conf_int[1]:.3f}]')\n",
    "print(f'99% доверительный интервал в третьей группе по необходимой сумме: [{third_group_conf_int[0]:.3f} - {third_group_conf_int[1]:.3f}]')\n",
    "print(f'99% доверительный интервал в четвёртой группе по необходимой сумме: [{fourth_group_conf_int[0]:.3f} - {fourth_group_conf_int[1]:.3f}]')"
   ]
  },
  {
   "cell_type": "markdown",
   "metadata": {},
   "source": [
    "Все интервалы не пересекаются между собой, значит, с увеличением запрашиваемой суммы доля одобрений снижается значимо, кроме второй и третьей группы, где пересечение интервалов есть"
   ]
  },
  {
   "cell_type": "markdown",
   "metadata": {},
   "source": [
    "# Визуализация доверительных интервалов"
   ]
  },
  {
   "cell_type": "code",
   "execution_count": 151,
   "metadata": {},
   "outputs": [],
   "source": [
    "import pandas as pd"
   ]
  },
  {
   "cell_type": "code",
   "execution_count": 165,
   "metadata": {},
   "outputs": [],
   "source": [
    "data_dict = {}\n",
    "data_dict['category'] = ['<24','24-30','30-38', '>38']\n",
    "data_dict['lower'] = [0.091, 0.2, 0.289, 0.369]\n",
    "data_dict['upper'] = [0.123,0.243,0.336, 0.418]\n",
    "\n",
    "dataset = pd.DataFrame(data_dict)"
   ]
  },
  {
   "cell_type": "code",
   "execution_count": 166,
   "metadata": {},
   "outputs": [
    {
     "data": {
      "text/plain": [
       "Text(0, 0.5, 'Возрастные категории, лет')"
      ]
     },
     "execution_count": 166,
     "metadata": {},
     "output_type": "execute_result"
    },
    {
     "data": {
      "image/png": "[encoded data removed]",
      "text/plain": [
       "<Figure size 864x432 with 1 Axes>"
      ]
     },
     "metadata": {
      "needs_background": "light"
     },
     "output_type": "display_data"
    }
   ],
   "source": [
    "plt.figure(figsize(12,6))\n",
    "for lower,upper,y in zip(dataset['lower'],dataset['upper'],range(len(dataset))):\n",
    "    plt.plot((lower,upper),(y,y),'ro-',color='green')\n",
    "plt.yticks(range(len(dataset)),list(dataset['category']))\n",
    "plt.title('Доверительный интервал доли одобрений в зависимости от возраста')\n",
    "plt.xlabel('Доля одобрений')\n",
    "plt.ylabel('Возрастные категории, лет')"
   ]
  },
  {
   "cell_type": "code",
   "execution_count": 167,
   "metadata": {},
   "outputs": [],
   "source": [
    "data_dict = {}\n",
    "data_dict['category'] = ['<28','28-40','40-55', '>55']\n",
    "data_dict['lower'] = [0.251, 0.231, 0.238, 0.237]\n",
    "data_dict['upper'] = [0.298,0.275,0.283, 0.282]\n",
    "dataset = pd.DataFrame(data_dict)"
   ]
  },
  {
   "cell_type": "code",
   "execution_count": 168,
   "metadata": {},
   "outputs": [
    {
     "data": {
      "text/plain": [
       "Text(0, 0.5, 'Месячный доход, тыс. рублей')"
      ]
     },
     "execution_count": 168,
     "metadata": {},
     "output_type": "execute_result"
    },
    {
     "data": {
      "image/png": "[encoded data removed]",
      "text/plain": [
       "<Figure size 864x432 with 1 Axes>"
      ]
     },
     "metadata": {
      "needs_background": "light"
     },
     "output_type": "display_data"
    }
   ],
   "source": [
    "plt.figure(figsize(12,6))\n",
    "for lower,upper,y in zip(dataset['lower'],dataset['upper'],range(len(dataset))):\n",
    "    plt.plot((lower,upper),(y,y),'ro-',color='green')\n",
    "plt.yticks(range(len(dataset)),list(dataset['category']))\n",
    "plt.title('Доверительный интервал доли одобрений в зависимости от ежемесячного дохода')\n",
    "plt.xlabel('Доля одобрений')\n",
    "plt.ylabel('Месячный доход, тыс. рублей')"
   ]
  },
  {
   "cell_type": "code",
   "execution_count": 169,
   "metadata": {},
   "outputs": [],
   "source": [
    "data_dict = {}\n",
    "data_dict['category'] = ['<17','17-28','28-53', '>53']\n",
    "data_dict['lower'] = [0.322, 0.265, 0.233, 0.139]\n",
    "data_dict['upper'] = [0.371,0.311,0.278, 0.176]\n",
    "dataset = pd.DataFrame(data_dict)"
   ]
  },
  {
   "cell_type": "code",
   "execution_count": 170,
   "metadata": {},
   "outputs": [
    {
     "data": {
      "text/plain": [
       "Text(0, 0.5, 'Запрашиваемая сумма, тыс. рублей')"
      ]
     },
     "execution_count": 170,
     "metadata": {},
     "output_type": "execute_result"
    },
    {
     "data": {
      "image/png": "[encoded data removed]",
      "text/plain": [
       "<Figure size 864x432 with 1 Axes>"
      ]
     },
     "metadata": {
      "needs_background": "light"
     },
     "output_type": "display_data"
    }
   ],
   "source": [
    "plt.figure(figsize(12,6))\n",
    "for lower,upper,y in zip(dataset['lower'],dataset['upper'],range(len(dataset))):\n",
    "    plt.plot((lower,upper),(y,y),'ro-',color='green')\n",
    "plt.yticks(range(len(dataset)),list(dataset['category']))\n",
    "plt.title('Доверительный интервал доли одобрений в зависимости от запрошенной суммы')\n",
    "plt.xlabel('Доля одобрений')\n",
    "plt.ylabel('Запрашиваемая сумма, тыс. рублей')"
   ]
  },
  {
   "cell_type": "markdown",
   "metadata": {},
   "source": [
    "Теперь сделанные выводы обозначены наглядно"
   ]
  }
 ],
 "metadata": {
  "kernelspec": {
   "display_name": "Python 3",
   "language": "python",
   "name": "python3"
  },
  "language_info": {
   "codemirror_mode": {
    "name": "ipython",
    "version": 3
   },
   "file_extension": ".py",
   "mimetype": "text/x-python",
   "name": "python",
   "nbconvert_exporter": "python",
   "pygments_lexer": "ipython3",
   "version": "3.7.1"
  }
 },
 "nbformat": 4,
 "nbformat_minor": 4
}
